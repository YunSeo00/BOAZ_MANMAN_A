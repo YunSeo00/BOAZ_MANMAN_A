{
 "cells": [
  {
   "cell_type": "markdown",
   "id": "e9aef51c-4047-4b46-846e-a8b0883e5c2c",
   "metadata": {},
   "source": [
    "### 간단한 RDD 실습"
   ]
  },
  {
   "cell_type": "markdown",
   "id": "c5bb2eab-a048-43f5-9a62-e1dfb9a28ad7",
   "metadata": {},
   "source": [
    "#### SparkContext 인스턴스 생성\n",
    "- RDD를 사용하기 위해 SparkContext를 정의해주어야 한다."
   ]
  },
  {
   "cell_type": "code",
   "execution_count": 1,
   "id": "a531a6d6-5015-442f-89b9-eae358b037e8",
   "metadata": {
    "tags": []
   },
   "outputs": [],
   "source": [
    "from pyspark.sql import SparkSession\n",
    "\n",
    "spark = SparkSession.builder.appName(\"RDD\").getOrCreate()\n",
    "\n",
    "sc = spark.sparkContext"
   ]
  },
  {
   "cell_type": "code",
   "execution_count": 2,
   "id": "89ecb6ee-aa59-4ea4-b4ef-4507cb07f2ed",
   "metadata": {
    "tags": []
   },
   "outputs": [
    {
     "data": {
      "text/html": [
       "\n",
       "            <div>\n",
       "                <p><b>SparkSession - in-memory</b></p>\n",
       "                \n",
       "        <div>\n",
       "            <p><b>SparkContext</b></p>\n",
       "\n",
       "            <p><a href=\"http://1d313ddd93b6:4040\">Spark UI</a></p>\n",
       "\n",
       "            <dl>\n",
       "              <dt>Version</dt>\n",
       "                <dd><code>v3.3.1</code></dd>\n",
       "              <dt>Master</dt>\n",
       "                <dd><code>local[*]</code></dd>\n",
       "              <dt>AppName</dt>\n",
       "                <dd><code>RDD</code></dd>\n",
       "            </dl>\n",
       "        </div>\n",
       "        \n",
       "            </div>\n",
       "        "
      ],
      "text/plain": [
       "<pyspark.sql.session.SparkSession at 0xffff77712950>"
      ]
     },
     "execution_count": 2,
     "metadata": {},
     "output_type": "execute_result"
    }
   ],
   "source": [
    "spark"
   ]
  },
  {
   "cell_type": "markdown",
   "id": "5c84d6a0-b92b-4081-9992-05074d4077de",
   "metadata": {},
   "source": [
    "#### 예제 데이터 정의\n",
    "- 아래와 같이 (key, value) 형태의 list를 생성\n",
    "- `sc.parallelize()`를 이용하여 RDD 생성"
   ]
  },
  {
   "cell_type": "code",
   "execution_count": 3,
   "id": "6a0c8793-3348-4a74-9adf-e86e5b3c8498",
   "metadata": {
    "tags": []
   },
   "outputs": [],
   "source": [
    "data=[(\"Z\", 1),(\"A\", 20),(\"B\", 30),(\"C\", 40),(\"B\", 30),(\"B\", 60)]"
   ]
  },
  {
   "cell_type": "code",
   "execution_count": 4,
   "id": "60f1b665-7860-4e47-986f-dc068dc31cd6",
   "metadata": {
    "tags": []
   },
   "outputs": [
    {
     "name": "stdout",
     "output_type": "stream",
     "text": [
      "ParallelCollectionRDD[0] at readRDDFromFile at PythonRDD.scala:274\n"
     ]
    }
   ],
   "source": [
    "inputRDD = sc.parallelize(data)\n",
    "print(inputRDD) # RDD 구조임을 확인할 수 있다."
   ]
  },
  {
   "cell_type": "markdown",
   "id": "76407d14-19ea-4189-8441-fff0a3babfbd",
   "metadata": {},
   "source": [
    "### 주요 Transformation, Action 연산\n",
    "이라고 했지만, transformation과 action의 차이점만 잘 얻어가시면 됩니다 ^O^"
   ]
  },
  {
   "cell_type": "markdown",
   "id": "3324a23c-dd78-4a54-b232-84c000000232",
   "metadata": {},
   "source": [
    "- collect() : RDD를 리스트 형태로 반환. RDD[T] => Seq[T]"
   ]
  },
  {
   "cell_type": "code",
   "execution_count": 6,
   "id": "2e503aaa-6c44-4dd6-87e7-72a5f558a0d0",
   "metadata": {
    "tags": []
   },
   "outputs": [
    {
     "data": {
      "text/plain": [
       "[('Z', 1), ('A', 20), ('B', 30), ('C', 40), ('B', 30), ('B', 60)]"
      ]
     },
     "execution_count": 6,
     "metadata": {},
     "output_type": "execute_result"
    }
   ],
   "source": [
    "inputRDD.collect()"
   ]
  },
  {
   "cell_type": "markdown",
   "id": "fee09b3b-3a80-4af6-b7c2-4616de2cc7a2",
   "metadata": {},
   "source": [
    "- map() : 모든 요소에 입력한 함수를 적용. RDD[T] => RDD[U]"
   ]
  },
  {
   "cell_type": "code",
   "execution_count": 7,
   "id": "365d3b3f-b5bb-4f40-9526-7213ade13ff9",
   "metadata": {
    "tags": []
   },
   "outputs": [
    {
     "data": {
      "text/plain": [
       "PythonRDD[1] at RDD at PythonRDD.scala:53"
      ]
     },
     "execution_count": 7,
     "metadata": {},
     "output_type": "execute_result"
    }
   ],
   "source": [
    "inputRDD.map(lambda a : (a[0],a[1]+1))"
   ]
  },
  {
   "cell_type": "code",
   "execution_count": 8,
   "id": "6bd0bbd9-a241-494c-936b-c4d825344395",
   "metadata": {
    "tags": []
   },
   "outputs": [
    {
     "data": {
      "text/plain": [
       "[('Z', 2), ('A', 21), ('B', 31), ('C', 41), ('B', 31), ('B', 61)]"
      ]
     },
     "execution_count": 8,
     "metadata": {},
     "output_type": "execute_result"
    }
   ],
   "source": [
    "inputRDD.map(lambda a : (a[0],a[1]+1)).collect()"
   ]
  },
  {
   "cell_type": "code",
   "execution_count": 9,
   "id": "3063ddf1-d87d-42e6-98d7-fb2525e4cc4b",
   "metadata": {
    "tags": []
   },
   "outputs": [
    {
     "data": {
      "text/plain": [
       "[['a', 'b', 'c'], ['d', 'e', 'f'], ['g', 'h', 'i']]"
      ]
     },
     "execution_count": 9,
     "metadata": {},
     "output_type": "execute_result"
    }
   ],
   "source": [
    "# 이런 것도 가능\n",
    "tmpRDD = sc.parallelize(['a,b,c', 'd,e,f','g,h,i'])\n",
    "tmpRDD.map(lambda x: x.split(',')).collect()"
   ]
  },
  {
   "cell_type": "markdown",
   "id": "ec6244a9-83d9-4d04-b4ff-6d9de7a392ed",
   "metadata": {},
   "source": [
    "- groupByKey() : key, value 형태로 구분된 데이터를 key값을 기준으로 함수를 적용시켜줌."
   ]
  },
  {
   "cell_type": "code",
   "execution_count": 10,
   "id": "a18bdb0b-995d-475f-9786-203a5e02d0f7",
   "metadata": {
    "tags": []
   },
   "outputs": [
    {
     "data": {
      "text/plain": [
       "[('A', 20), ('B', 120), ('C', 40), ('Z', 1)]"
      ]
     },
     "execution_count": 10,
     "metadata": {},
     "output_type": "execute_result"
    }
   ],
   "source": [
    "inputRDD.reduceByKey(lambda a, b: a+b).collect()"
   ]
  },
  {
   "cell_type": "code",
   "execution_count": null,
   "id": "0a9426cd-dc57-4e34-b794-c8cc74226842",
   "metadata": {},
   "outputs": [],
   "source": []
  },
  {
   "cell_type": "code",
   "execution_count": null,
   "id": "5861c6c3-d596-46aa-89c4-c413d4af5de1",
   "metadata": {},
   "outputs": [],
   "source": []
  }
 ],
 "metadata": {
  "kernelspec": {
   "display_name": "Python 3 (ipykernel)",
   "language": "python",
   "name": "python3"
  },
  "language_info": {
   "codemirror_mode": {
    "name": "ipython",
    "version": 3
   },
   "file_extension": ".py",
   "mimetype": "text/x-python",
   "name": "python",
   "nbconvert_exporter": "python",
   "pygments_lexer": "ipython3",
   "version": "3.10.9"
  }
 },
 "nbformat": 4,
 "nbformat_minor": 5
}
