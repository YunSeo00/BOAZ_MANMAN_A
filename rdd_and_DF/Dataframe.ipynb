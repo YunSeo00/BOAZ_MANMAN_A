{
 "cells": [
  {
   "cell_type": "code",
   "execution_count": 3,
   "id": "24958dcc-4a55-45ae-83fe-cc540c2c8864",
   "metadata": {
    "tags": []
   },
   "outputs": [],
   "source": [
    "from pyspark.sql import SparkSession\n",
    "\n",
    "spark = SparkSession.builder \\\n",
    "    .appName(\"Dataframe\") \\\n",
    "    .config(\"spark.driver.extraClassPath\", \"/usr/local/spark-3.3.1-bin-hadoop3/jars\") \\\n",
    "    .getOrCreate()\n",
    "\n",
    "sc = spark.sparkContext"
   ]
  },
  {
   "cell_type": "markdown",
   "id": "62a6bdeb-11b8-449c-8554-6b2dd371c87d",
   "metadata": {},
   "source": [
    "#### text 형태의 데이터를 전처리해서 csv 형태로 저장해보자!\n",
    "(부제: 엔지니어링 A조 MBTI 살펴보기)"
   ]
  },
  {
   "cell_type": "markdown",
   "id": "9b63b70a-5fae-424a-aa2f-a95e8dcadc80",
   "metadata": {},
   "source": [
    "- raw_data 생성"
   ]
  },
  {
   "cell_type": "code",
   "execution_count": 4,
   "id": "efabe920-726a-4205-b759-4d4a731bc62a",
   "metadata": {
    "tags": []
   },
   "outputs": [],
   "source": [
    "raw_data = [\"윤건우, ISTP, 24; \\\n",
    "            이가람, ESTJ, 23; \\\n",
    "            이선의, null, null; \\\n",
    "            이수민, ESTP, null; \\\n",
    "            채영대, null, null; \\\n",
    "            이상암, ENTJ, null; \\\n",
    "            유하준, ESTJ, secret; \\\n",
    "            정태형, ESFJ, null; \\\n",
    "            최윤서, INTJ, 24\"]"
   ]
  },
  {
   "cell_type": "markdown",
   "id": "8f216cda-d074-4d55-b74f-a1dc7d3f0803",
   "metadata": {},
   "source": [
    "- RDD로 변환"
   ]
  },
  {
   "cell_type": "code",
   "execution_count": 5,
   "id": "399f9b2d-1cab-4f02-9d30-4b7c3dee4d12",
   "metadata": {
    "tags": []
   },
   "outputs": [
    {
     "data": {
      "text/plain": [
       "['윤건우, ISTP, 24;             이가람, ESTJ, 23;             이선의, null, null;             이수민, ESTP, null;             채영대, null, null;             이상암, ENTJ, null;             유하준, ESTJ, secret;             정태형, ESFJ, null;             최윤서, INTJ, 24']"
      ]
     },
     "execution_count": 5,
     "metadata": {},
     "output_type": "execute_result"
    }
   ],
   "source": [
    "RDD_data = sc.parallelize(raw_data)\n",
    "RDD_data.collect()"
   ]
  },
  {
   "cell_type": "markdown",
   "id": "84573fdb-ce0c-4387-9c88-32fd6233ac6b",
   "metadata": {},
   "source": [
    "- flatMap() 함수를 이용하여 데이터 전처리"
   ]
  },
  {
   "cell_type": "code",
   "execution_count": 6,
   "id": "b51c0385-ed1e-44ca-8276-b0d8a728c8b8",
   "metadata": {
    "tags": []
   },
   "outputs": [],
   "source": [
    "RDD_split_data = RDD_data.flatMap(lambda x : x.split(';'))"
   ]
  },
  {
   "cell_type": "code",
   "execution_count": 7,
   "id": "ac23aaab-a96c-4de3-9727-2bf53f79e852",
   "metadata": {
    "tags": []
   },
   "outputs": [
    {
     "data": {
      "text/plain": [
       "['윤건우, ISTP, 24',\n",
       " '             이가람, ESTJ, 23',\n",
       " '             이선의, null, null',\n",
       " '             이수민, ESTP, null',\n",
       " '             채영대, null, null',\n",
       " '             이상암, ENTJ, null',\n",
       " '             유하준, ESTJ, secret',\n",
       " '             정태형, ESFJ, null',\n",
       " '             최윤서, INTJ, 24']"
      ]
     },
     "execution_count": 7,
     "metadata": {},
     "output_type": "execute_result"
    }
   ],
   "source": [
    "RDD_split_data.collect()"
   ]
  },
  {
   "cell_type": "markdown",
   "id": "83e14616-f013-498e-8c79-f62c2956810e",
   "metadata": {},
   "source": [
    "- 등등의 로직을 이용하여 남은 전처리"
   ]
  },
  {
   "cell_type": "code",
   "execution_count": 8,
   "id": "cf2f785a-06e9-412a-8a08-a0b82a59aafb",
   "metadata": {
    "tags": []
   },
   "outputs": [],
   "source": [
    "# Split data and create Row objects\n",
    "def parse_data(row):\n",
    "    parts = row.strip().split(\", \")\n",
    "    name = parts[0]\n",
    "    _type = parts[1] if parts[1] != \"null\" else None\n",
    "    age = parts[2] if parts[2] != \"null\" else None\n",
    "    return [name, _type, age]"
   ]
  },
  {
   "cell_type": "code",
   "execution_count": 9,
   "id": "ee1146bd-4a47-4ec2-a2de-9883fa079a33",
   "metadata": {
    "tags": []
   },
   "outputs": [
    {
     "data": {
      "text/plain": [
       "[['윤건우', 'ISTP', '24'],\n",
       " ['이가람', 'ESTJ', '23'],\n",
       " ['이선의', None, None],\n",
       " ['이수민', 'ESTP', None],\n",
       " ['채영대', None, None],\n",
       " ['이상암', 'ENTJ', None],\n",
       " ['유하준', 'ESTJ', 'secret'],\n",
       " ['정태형', 'ESFJ', None],\n",
       " ['최윤서', 'INTJ', '24']]"
      ]
     },
     "execution_count": 9,
     "metadata": {},
     "output_type": "execute_result"
    }
   ],
   "source": [
    "RDD_clear_data = RDD_split_data.map(parse_data)\n",
    "RDD_clear_data.collect()"
   ]
  },
  {
   "cell_type": "markdown",
   "id": "c13addc0-90c3-4d94-a8df-50348fe7eb8b",
   "metadata": {},
   "source": [
    "- Dataframe 형태로 변환"
   ]
  },
  {
   "cell_type": "code",
   "execution_count": 10,
   "id": "663e3bed-090c-4879-a598-95f2230109ea",
   "metadata": {
    "tags": []
   },
   "outputs": [
    {
     "data": {
      "text/plain": [
       "DataFrame[이름: string, MBTI: string, 나이: string]"
      ]
     },
     "execution_count": 10,
     "metadata": {},
     "output_type": "execute_result"
    }
   ],
   "source": [
    "# RDD.toDF()를 이용하여 RDD를 Dataframe 형태로 변환할 수 있다.\n",
    "DF_data = RDD_clear_data.toDF([\"이름\",\"MBTI\",\"나이\"])\n",
    "DF_data"
   ]
  },
  {
   "cell_type": "code",
   "execution_count": 11,
   "id": "3db36cd7-9004-4344-a47e-01dd66983454",
   "metadata": {
    "tags": []
   },
   "outputs": [
    {
     "data": {
      "text/plain": [
       "[Row(이름='윤건우', MBTI='ISTP', 나이='24'),\n",
       " Row(이름='이가람', MBTI='ESTJ', 나이='23'),\n",
       " Row(이름='이선의', MBTI=None, 나이=None),\n",
       " Row(이름='이수민', MBTI='ESTP', 나이=None),\n",
       " Row(이름='채영대', MBTI=None, 나이=None),\n",
       " Row(이름='이상암', MBTI='ENTJ', 나이=None),\n",
       " Row(이름='유하준', MBTI='ESTJ', 나이='secret'),\n",
       " Row(이름='정태형', MBTI='ESFJ', 나이=None),\n",
       " Row(이름='최윤서', MBTI='INTJ', 나이='24')]"
      ]
     },
     "execution_count": 11,
     "metadata": {},
     "output_type": "execute_result"
    }
   ],
   "source": [
    "DF_data.collect()"
   ]
  },
  {
   "cell_type": "code",
   "execution_count": 12,
   "id": "c4783273-3156-4c19-9f0d-93af878bbeef",
   "metadata": {
    "tags": []
   },
   "outputs": [
    {
     "name": "stdout",
     "output_type": "stream",
     "text": [
      "+------+----+------+\n",
      "|  이름|MBTI|  나이|\n",
      "+------+----+------+\n",
      "|윤건우|ISTP|    24|\n",
      "|이가람|ESTJ|    23|\n",
      "|이선의|null|  null|\n",
      "|이수민|ESTP|  null|\n",
      "|채영대|null|  null|\n",
      "|이상암|ENTJ|  null|\n",
      "|유하준|ESTJ|secret|\n",
      "|정태형|ESFJ|  null|\n",
      "|최윤서|INTJ|    24|\n",
      "+------+----+------+\n",
      "\n"
     ]
    }
   ],
   "source": [
    "DF_data.show() # show()를 이용해서도 데이터를 볼 수 있다. (action)"
   ]
  },
  {
   "cell_type": "code",
   "execution_count": 13,
   "id": "d0c61f31-234d-472d-87e3-ce055b429740",
   "metadata": {
    "tags": []
   },
   "outputs": [
    {
     "data": {
      "text/plain": [
       "pyspark.sql.dataframe.DataFrame"
      ]
     },
     "execution_count": 13,
     "metadata": {},
     "output_type": "execute_result"
    }
   ],
   "source": [
    "type(DF_data)"
   ]
  },
  {
   "cell_type": "markdown",
   "id": "b2b8ca62-260d-4cc2-8f89-4a03a2f0ce7e",
   "metadata": {},
   "source": [
    "- MBTI가 null이 아닌 데이터만 추출"
   ]
  },
  {
   "cell_type": "code",
   "execution_count": 14,
   "id": "7f314ec4-77ed-422e-a270-88ddd3e4edd1",
   "metadata": {
    "tags": []
   },
   "outputs": [
    {
     "name": "stdout",
     "output_type": "stream",
     "text": [
      "+------+----+------+\n",
      "|  이름|MBTI|  나이|\n",
      "+------+----+------+\n",
      "|윤건우|ISTP|    24|\n",
      "|이가람|ESTJ|    23|\n",
      "|이수민|ESTP|  null|\n",
      "|이상암|ENTJ|  null|\n",
      "|유하준|ESTJ|secret|\n",
      "|정태형|ESFJ|  null|\n",
      "|최윤서|INTJ|    24|\n",
      "+------+----+------+\n",
      "\n"
     ]
    }
   ],
   "source": [
    "DF_not_null = DF_data.filter(DF_data[\"MBTI\"].isNotNull())\n",
    "DF_not_null.show()"
   ]
  },
  {
   "cell_type": "markdown",
   "id": "57fecd3d-bf41-4e93-9f65-4caab1a9f435",
   "metadata": {},
   "source": [
    "- MBTI 열을 이용하여 새로운 열 생성"
   ]
  },
  {
   "cell_type": "code",
   "execution_count": 15,
   "id": "2941122f-0d05-48c7-9700-561473f95884",
   "metadata": {
    "tags": []
   },
   "outputs": [],
   "source": [
    "from pyspark.sql.functions import col\n",
    "\n",
    "new_DF = DF_not_null\\\n",
    "            .withColumn(\"EorI\", col(\"MBTI\").substr(1, 1)) \\\n",
    "            .withColumn(\"NorS\", col(\"MBTI\").substr(2, 1)) \\\n",
    "            .withColumn(\"ForT\", col(\"MBTI\").substr(3, 1)) \\\n",
    "            .withColumn(\"JorP\", col(\"MBTI\").substr(4, 1))"
   ]
  },
  {
   "cell_type": "code",
   "execution_count": 16,
   "id": "6c455a51-d34f-40ec-a322-4a391ae631be",
   "metadata": {
    "tags": []
   },
   "outputs": [
    {
     "name": "stdout",
     "output_type": "stream",
     "text": [
      "+------+----+------+----+----+----+----+\n",
      "|  이름|MBTI|  나이|EorI|NorS|ForT|JorP|\n",
      "+------+----+------+----+----+----+----+\n",
      "|윤건우|ISTP|    24|   I|   S|   T|   P|\n",
      "|이가람|ESTJ|    23|   E|   S|   T|   J|\n",
      "|이수민|ESTP|  null|   E|   S|   T|   P|\n",
      "|이상암|ENTJ|  null|   E|   N|   T|   J|\n",
      "|유하준|ESTJ|secret|   E|   S|   T|   J|\n",
      "|정태형|ESFJ|  null|   E|   S|   F|   J|\n",
      "|최윤서|INTJ|    24|   I|   N|   T|   J|\n",
      "+------+----+------+----+----+----+----+\n",
      "\n"
     ]
    }
   ],
   "source": [
    "new_DF.show()"
   ]
  },
  {
   "cell_type": "markdown",
   "id": "48d6d935-0f15-4c38-8d40-57918e24078f",
   "metadata": {},
   "source": [
    "- 그래프 그려보기"
   ]
  },
  {
   "cell_type": "code",
   "execution_count": 17,
   "id": "b084de93-c142-4cf3-bd1a-ed973915bb47",
   "metadata": {
    "tags": []
   },
   "outputs": [],
   "source": [
    "import matplotlib.pyplot as plt"
   ]
  },
  {
   "cell_type": "code",
   "execution_count": 18,
   "id": "840c4eb0-de80-454b-bf77-af554343e2a2",
   "metadata": {
    "tags": []
   },
   "outputs": [],
   "source": [
    "# 각 요소별 분포 데이터 추출\n",
    "mbti1 = new_DF.groupBy(\"EorI\").count().collect()\n",
    "mbti2 = new_DF.groupBy(\"NorS\").count().collect()\n",
    "mbti3 = new_DF.groupBy(\"ForT\").count().collect()\n",
    "mbti4 = new_DF.groupBy(\"JorP\").count().collect()"
   ]
  },
  {
   "cell_type": "code",
   "execution_count": 19,
   "id": "99f5f6b7-d3ad-4986-8b0e-e3a788a0e24c",
   "metadata": {
    "tags": []
   },
   "outputs": [
    {
     "data": {
      "image/png": "[encoded data removed]",
      "text/plain": [
       "<Figure size 1200x800 with 4 Axes>"
      ]
     },
     "metadata": {},
     "output_type": "display_data"
    }
   ],
   "source": [
    "plt.figure(figsize=(12, 8))\n",
    "\n",
    "plt.subplot(2, 2, 1)\n",
    "plt.bar([row[\"EorI\"] for row in mbti1], [row[\"count\"] for row in mbti1])\n",
    "plt.xlabel(\"E/I\")\n",
    "plt.ylabel(\"Count\")\n",
    "plt.title(\"E/I dist\")\n",
    "\n",
    "plt.subplot(2, 2, 2)\n",
    "plt.bar([row[\"NorS\"] for row in mbti2], [row[\"count\"] for row in mbti2])\n",
    "plt.xlabel(\"N/S\")\n",
    "plt.ylabel(\"Count\")\n",
    "plt.title(\"N/S dist\")\n",
    "\n",
    "plt.subplot(2, 2, 3)\n",
    "plt.bar([row[\"ForT\"] for row in mbti3], [row[\"count\"] for row in mbti3])\n",
    "plt.xlabel(\"F/T\")\n",
    "plt.ylabel(\"Count\")\n",
    "plt.title(\"F/T dist\")\n",
    "\n",
    "plt.subplot(2, 2, 4)\n",
    "plt.bar([row[\"JorP\"] for row in mbti4], [row[\"count\"] for row in mbti4])\n",
    "plt.xlabel(\"J/P\")\n",
    "plt.ylabel(\"Count\")\n",
    "plt.title(\"J/P dist\")\n",
    "\n",
    "plt.tight_layout()\n",
    "plt.show()"
   ]
  },
  {
   "cell_type": "markdown",
   "id": "7683ad5d-7613-4b48-acba-2bf76af7fdca",
   "metadata": {},
   "source": [
    "- postgreSQL에 저장"
   ]
  },
  {
   "cell_type": "code",
   "execution_count": 20,
   "id": "43d40ed2-f126-4111-a710-f1ba0ff0589d",
   "metadata": {
    "tags": []
   },
   "outputs": [],
   "source": [
    "database_url = \"jdbc:postgresql://postgres:5432/boaz\"\n",
    "database_properties = {\n",
    "    \"user\": \"boaz\",\n",
    "    \"password\": \"boaz\",\n",
    "    \"driver\": \"org.postgresql.Driver\"\n",
    "}\n",
    "\n",
    "new_DF.write.jdbc(url=database_url, table=\"boaz_engin_A\", mode=\"overwrite\", properties=database_properties)"
   ]
  },
  {
   "cell_type": "code",
   "execution_count": null,
   "id": "de64904b-6d5b-4bd4-b06e-9d444f01f702",
   "metadata": {},
   "outputs": [],
   "source": [
    "# spark 세션 종료\n",
    "spark.stop()"
   ]
  }
 ],
 "metadata": {
  "kernelspec": {
   "display_name": "Python 3 (ipykernel)",
   "language": "python",
   "name": "python3"
  },
  "language_info": {
   "codemirror_mode": {
    "name": "ipython",
    "version": 3
   },
   "file_extension": ".py",
   "mimetype": "text/x-python",
   "name": "python",
   "nbconvert_exporter": "python",
   "pygments_lexer": "ipython3",
   "version": "3.10.9"
  }
 },
 "nbformat": 4,
 "nbformat_minor": 5
}
